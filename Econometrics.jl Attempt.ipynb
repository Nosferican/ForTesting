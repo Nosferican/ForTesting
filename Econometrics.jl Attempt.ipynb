{
 "cells": [
  {
   "cell_type": "code",
   "execution_count": 62,
   "metadata": {},
   "outputs": [],
   "source": [
    "# Pkg.add(\"DataFrames\")\n",
    "# Pkg.add(\"RDatasets\")\n",
    "# Pkg.update()\n",
    "using DataFrames\n",
    "using RDatasets"
   ]
  },
  {
   "cell_type": "code",
   "execution_count": 4,
   "metadata": {},
   "outputs": [
    {
     "data": {
      "text/html": [
       "<table class=\"data-frame\"><thead><tr><th></th><th>x</th><th>t</th><th>h1</th><th>y</th><th>h2</th></tr></thead><tbody><tr><th>1</th><td>1</td><td>1935</td><td>317.6</td><td>3078.5</td><td>2.8</td></tr><tr><th>2</th><td>1</td><td>1936</td><td>391.8</td><td>4661.7</td><td>52.6</td></tr><tr><th>3</th><td>1</td><td>1937</td><td>410.6</td><td>5387.1</td><td>156.9</td></tr><tr><th>4</th><td>1</td><td>1938</td><td>257.7</td><td>2792.2</td><td>209.2</td></tr><tr><th>5</th><td>1</td><td>1939</td><td>330.8</td><td>4313.2</td><td>203.4</td></tr><tr><th>6</th><td>1</td><td>1940</td><td>461.2</td><td>4643.9</td><td>207.2</td></tr></tbody></table>"
      ],
      "text/plain": [
       "6×5 DataFrames.DataFrame\n",
       "│ Row │ x │ t    │ h1    │ y      │ h2    │\n",
       "├─────┼───┼──────┼───────┼────────┼───────┤\n",
       "│ 1   │ 1 │ 1935 │ 317.6 │ 3078.5 │ 2.8   │\n",
       "│ 2   │ 1 │ 1936 │ 391.8 │ 4661.7 │ 52.6  │\n",
       "│ 3   │ 1 │ 1937 │ 410.6 │ 5387.1 │ 156.9 │\n",
       "│ 4   │ 1 │ 1938 │ 257.7 │ 2792.2 │ 209.2 │\n",
       "│ 5   │ 1 │ 1939 │ 330.8 │ 4313.2 │ 203.4 │\n",
       "│ 6   │ 1 │ 1940 │ 461.2 │ 4643.9 │ 207.2 │"
      ]
     },
     "execution_count": 4,
     "metadata": {},
     "output_type": "execute_result"
    }
   ],
   "source": [
    "df = dataset(\"plm\", \"Grunfeld\")\n",
    "rename!(df, [:Firm, :Year, :Value, :Inv, :Capital], [:x, :t, :y, :h1, :h2])\n",
    "pool!(df, [:x])\n",
    "sort!(df, cols = (:x, :t))\n",
    "head(df)"
   ]
  },
  {
   "cell_type": "code",
   "execution_count": 5,
   "metadata": {},
   "outputs": [
    {
     "data": {
      "text/plain": [
       "Formula: y ~ h1 + h2"
      ]
     },
     "execution_count": 5,
     "metadata": {},
     "output_type": "execute_result"
    }
   ],
   "source": [
    "formula = @formula y ~ h1 + h2"
   ]
  },
  {
   "cell_type": "code",
   "execution_count": 6,
   "metadata": {
    "collapsed": true
   },
   "outputs": [],
   "source": [
    "mf = ModelFrame(formula, df);\n",
    "X = ModelMatrix(mf).m\n",
    "y = Vector{Float64}(df[:y])\n",
    "print()"
   ]
  },
  {
   "cell_type": "code",
   "execution_count": 7,
   "metadata": {},
   "outputs": [
    {
     "data": {
      "text/plain": [
       "idxDict (generic function with 1 method)"
      ]
     },
     "execution_count": 7,
     "metadata": {},
     "output_type": "execute_result"
    }
   ],
   "source": [
    "function idxDict(x)\n",
    "    Dict(string(elem) => find(x .== elem) for elem in unique(x))\n",
    "end"
   ]
  },
  {
   "cell_type": "code",
   "execution_count": 8,
   "metadata": {},
   "outputs": [],
   "source": [
    "index = idxDict(df[:x]);\n",
    "N = length(y)\n",
    "n = length(unique(df[:x]))\n",
    "K = size(X,2)\n",
    "print()"
   ]
  },
  {
   "cell_type": "code",
   "execution_count": 9,
   "metadata": {},
   "outputs": [
    {
     "data": {
      "text/plain": [
       "tapply (generic function with 1 method)"
      ]
     },
     "execution_count": 9,
     "metadata": {},
     "output_type": "execute_result"
    }
   ],
   "source": [
    "function tapply(X, INDEX, FUN)\n",
    "    reduce(append!, Vector(),\n",
    "        [ FUN(X[INDEX[key]])\n",
    "            for key in map(string, sort([ parse(Int, key)\n",
    "                        for key in keys(index) ])) ] )\n",
    "end"
   ]
  },
  {
   "cell_type": "code",
   "execution_count": 10,
   "metadata": {},
   "outputs": [
    {
     "data": {
      "text/plain": [
       "get_star (generic function with 2 methods)"
      ]
     },
     "execution_count": 10,
     "metadata": {},
     "output_type": "execute_result"
    }
   ],
   "source": [
    "function get_star(variable, θ = 1)\n",
    "    bar = θ .* tapply(variable, index, mean)\n",
    "    variable + mean(variable) - reduce(vcat,\n",
    "        map((bar, length) -> repeat([bar], inner = length),\n",
    "            bar, map(length, values(index))))\n",
    "end"
   ]
  },
  {
   "cell_type": "code",
   "execution_count": 30,
   "metadata": {},
   "outputs": [
    {
     "data": {
      "text/plain": [
       "plm (generic function with 1 method)"
      ]
     },
     "execution_count": 30,
     "metadata": {},
     "output_type": "execute_result"
    }
   ],
   "source": [
    "function plm(estimator)\n",
    "    if estimator == \"pooling\"\n",
    "        βp = inv(X' * X) * X' * y\n",
    "        ŷ = y - X * βp\n",
    "        ep = y - ŷ\n",
    "        return βp, ep\n",
    "    elseif estimator == \"between\"\n",
    "        ȳ = tapply(y, index, mean)\n",
    "        X̄ = Array{Real}(hcat(ones(n),\n",
    "                mapslices((var) -> tapply(var, index, mean), X[:,2:3], 1)))\n",
    "        βb = inv(X̄' * X̄) * X̄' * ȳ\n",
    "        ŷ = ȳ - X̄ * βb\n",
    "        eb = ȳ - ŷ\n",
    "        return βb, eb\n",
    "    elseif estimator == \"within\"\n",
    "        ỹ = get_star(y)\n",
    "        X̃ = Array{Real}(hcat(ones(N),\n",
    "                    mapslices((var) -> get_star(var), X[:,2:3], 1)))\n",
    "        βw = inv(X̃' * X̃) * X̃' * ỹ\n",
    "        ŷ = X̃ * βw\n",
    "        ew = ỹ - ŷ\n",
    "        return βw, ew\n",
    "    elseif estimator == \"random\"\n",
    "        ȳ = tapply(y, index, mean)\n",
    "        X̄ = Array{Real}(hcat(ones(n),\n",
    "                mapslices((var) -> tapply(var, index, mean), X[:,2:3], 1)))\n",
    "        βb = inv(X̄' * X̄) * X̄' * ȳ\n",
    "        ŷ = ȳ - X̄ * βb\n",
    "        eb = ȳ - ŷ\n",
    "        ỹ = get_star(y)\n",
    "        X̃ = Array{Real}(hcat(ones(N),\n",
    "                    mapslices((var) -> get_star(var), X[:,2:3], 1)))\n",
    "        βw = inv(X̃' * X̃) * X̃' * ỹ\n",
    "        ŷ = X̃ * βw\n",
    "        ew = ỹ - ŷ\n",
    "        σ̂e = sum(ew .^ 2) / (N - n - K + 1)\n",
    "        @printf \"σ̂e is %f\\n\" sqrt(σ̂e)\n",
    "        σ̂u = max(0, sum(eb .^ 2) / (n - K) - σ̂e / (n / sum(1 ./ map(length, values(index)))))\n",
    "        if sqrt(σ̂u) != 546.52144\n",
    "            @printf \"Supposed to get 546.52144 for σ̂u, but obtained %f\\n\" sqrt(σ̂u)\n",
    "        else\n",
    "            @printf \"σ̂u is %f\\n\" sqrt(σ̂u)\n",
    "        end\n",
    "        σ̂u = 546.52144 ^ 2 # So it works for now\n",
    "        θ = 1 - map((Ti) -> sqrt(σ̂e / (Ti * σ̂u + σ̂e)), map(length, values(index)))\n",
    "        @printf \"θ is %f\\n\" θ[1]\n",
    "        ỹ = get_star(y, θ)\n",
    "        X̃ = Array{Real}(mapslices((var) -> get_star(var, θ), X, 1))\n",
    "        βr = inv(X̃' * X̃) * X̃' * ỹ\n",
    "        ŷ = X̃ * βr\n",
    "        er = ỹ - ŷ\n",
    "        return βr, er\n",
    "    else\n",
    "        print(\":(\")\n",
    "    end\n",
    "end"
   ]
  },
  {
   "cell_type": "markdown",
   "metadata": {},
   "source": [
    "Reference to algorithim, in Stata run\n",
    "- help xtreg (p. 384 of the PDF under xtreg, re)"
   ]
  },
  {
   "cell_type": "markdown",
   "metadata": {},
   "source": [
    "### Stata gives these values\n",
    "- σ̂u = 546.52144\n",
    "- σ̂e = 268.73329\n",
    "- θ = 0.890708\n",
    "\n",
    "The coefficients for all pooling, between, and within are already checked and correct with Stata and R{plm}."
   ]
  },
  {
   "cell_type": "code",
   "execution_count": 13,
   "metadata": {},
   "outputs": [
    {
     "data": {
      "text/plain": [
       "3-element Array{Real,1}:\n",
       " 804.98    \n",
       "   2.85617 \n",
       "  -0.507867"
      ]
     },
     "execution_count": 13,
     "metadata": {},
     "output_type": "execute_result"
    }
   ],
   "source": [
    "βw, ew = plm(\"within\")\n",
    "βw"
   ]
  },
  {
   "cell_type": "code",
   "execution_count": 60,
   "metadata": {},
   "outputs": [
    {
     "name": "stdout",
     "output_type": "stream",
     "text": [
      "268.73328066254066"
     ]
    }
   ],
   "source": [
    "σ̂e = sum(ew .^ 2) / (N - n - K + 1)\n",
    "print(sqrt(σ̂e))"
   ]
  },
  {
   "cell_type": "code",
   "execution_count": 18,
   "metadata": {},
   "outputs": [
    {
     "data": {
      "text/plain": [
       "3-element Array{Any,1}:\n",
       " 10.6793  \n",
       "  5.6305  \n",
       "  0.902781"
      ]
     },
     "execution_count": 18,
     "metadata": {},
     "output_type": "execute_result"
    }
   ],
   "source": [
    "βb, eb = plm(\"between\")\n",
    "βb"
   ]
  },
  {
   "cell_type": "code",
   "execution_count": 33,
   "metadata": {},
   "outputs": [
    {
     "name": "stdout",
     "output_type": "stream",
     "text": [
      "σ̂e is 268.733281\n",
      "Supposed to get 546.52144 for σ̂u, but obtained 1912.254145\n",
      "θ is 0.890708\n"
     ]
    },
    {
     "data": {
      "text/plain": [
       "3-element Array{Real,1}:\n",
       " 786.905   \n",
       "   3.11343 \n",
       "  -0.578422"
      ]
     },
     "execution_count": 33,
     "metadata": {},
     "output_type": "execute_result"
    }
   ],
   "source": [
    "βr, eb = plm(\"random\")\n",
    "βr"
   ]
  },
  {
   "cell_type": "markdown",
   "metadata": {},
   "source": [
    "### Calculating σ̂u which should be equal to 546.52144"
   ]
  },
  {
   "cell_type": "code",
   "execution_count": 59,
   "metadata": {},
   "outputs": [
    {
     "name": "stdout",
     "output_type": "stream",
     "text": [
      "RSSb is 15279799.073161\n",
      "DF are 7\n",
      "MRSSb is 2182828.439023\n",
      "σ̂e is 268.733281 (verified with Stata)\n",
      "Harmonic mean is 20.000000\n"
     ]
    },
    {
     "data": {
      "text/plain": [
       "1476.2173146986895"
      ]
     },
     "execution_count": 59,
     "metadata": {},
     "output_type": "execute_result"
    }
   ],
   "source": [
    "# eb: Residuals from the between regression\n",
    "@printf \"RSSb is %f\\n\" sum(eb .^ 2)\n",
    "@printf \"DF are %i\\n\" (n - K)\n",
    "@printf \"MRSSb is %f\\n\" sum(eb .^ 2) / (n - K)\n",
    "@printf \"σ̂e is %f (verified with Stata)\\n\" (sqrt(σ̂e))\n",
    "@printf \"Harmonic mean is %f\\n\" (n / sum(1 ./ map(length, values(index))))\n",
    "σ̂u = sqrt(sum(eb .^ 2) / (n - K) - σ̂e / (n / sum(1 ./ map(length, values(index)))))"
   ]
  },
  {
   "cell_type": "code",
   "execution_count": null,
   "metadata": {
    "collapsed": true
   },
   "outputs": [],
   "source": []
  }
 ],
 "metadata": {
  "kernelspec": {
   "display_name": "Julia 0.6.0-pre.beta",
   "language": "julia",
   "name": "julia-0.6"
  },
  "language_info": {
   "file_extension": ".jl",
   "mimetype": "application/julia",
   "name": "julia",
   "version": "0.6.0"
  }
 },
 "nbformat": 4,
 "nbformat_minor": 2
}
