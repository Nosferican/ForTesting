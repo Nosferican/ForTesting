{
 "cells": [
  {
   "cell_type": "markdown",
   "metadata": {},
   "source": [
    "# Calculating OLS"
   ]
  },
  {
   "cell_type": "markdown",
   "metadata": {},
   "source": [
    "This exercise will walk you through calculating a multivariate ordinary linear regression."
   ]
  },
  {
   "cell_type": "markdown",
   "metadata": {},
   "source": [
    "## Housekeeping"
   ]
  },
  {
   "cell_type": "code",
   "execution_count": 1,
   "metadata": {
    "collapsed": true
   },
   "outputs": [],
   "source": [
    "using Distributions"
   ]
  },
  {
   "cell_type": "markdown",
   "metadata": {},
   "source": [
    "In order to make the results replicable set the seed."
   ]
  },
  {
   "cell_type": "code",
   "execution_count": 2,
   "metadata": {
    "collapsed": false
   },
   "outputs": [],
   "source": [
    "srand(0);"
   ]
  },
  {
   "cell_type": "markdown",
   "metadata": {},
   "source": [
    "In this step we define the following parameters"
   ]
  },
  {
   "cell_type": "code",
   "execution_count": 3,
   "metadata": {
    "collapsed": false
   },
   "outputs": [],
   "source": [
    "n = 100; # Number of observations\n",
    "beta1 = 2; # Weights on X1 and X2\n",
    "beta2 = 1;\n",
    "beta3 = Dict([(\"A\",0),(\"B\",-1.5),(\"C\",3)])\n",
    "IncludeIntercept = 1; # Should the intercept be included? (0 no, 1 yes)\n",
    "print()"
   ]
  },
  {
   "cell_type": "markdown",
   "metadata": {},
   "source": [
    "## Generating the data"
   ]
  },
  {
   "cell_type": "markdown",
   "metadata": {},
   "source": [
    "Let us generate two features using *n* random numbers from a standard normal distribution: $X_{1}$ and $X_{2}$."
   ]
  },
  {
   "cell_type": "code",
   "execution_count": 4,
   "metadata": {
    "collapsed": false
   },
   "outputs": [],
   "source": [
    "X1 = randn(n);\n",
    "X2 = randn(n);\n",
    "X3 = sample([\"A\",\"B\",\"C\"], 100);"
   ]
  },
  {
   "cell_type": "markdown",
   "metadata": {},
   "source": [
    "Let us generate a random normal response (outcome variable) using a linear combination of $X_{1}$, $X_{2}$, and noise in the form of random draws from a standard normal distribution."
   ]
  },
  {
   "cell_type": "code",
   "execution_count": 5,
   "metadata": {
    "collapsed": false
   },
   "outputs": [],
   "source": [
    "y = beta1 * X1 + beta2 * X2 + map(key -> beta3[key], X3) + randn(n);"
   ]
  },
  {
   "cell_type": "markdown",
   "metadata": {},
   "source": [
    "To verify output with other software one can export the data as a text file."
   ]
  },
  {
   "cell_type": "code",
   "execution_count": 6,
   "metadata": {
    "collapsed": true
   },
   "outputs": [],
   "source": [
    "writedlm(\"/Users/jbsc/Desktop/JuliaData.csv\", cat(2,y,X1,X2,X3), \",\")"
   ]
  },
  {
   "cell_type": "markdown",
   "metadata": {},
   "source": [
    "Expand categorical features"
   ]
  },
  {
   "cell_type": "code",
   "execution_count": 7,
   "metadata": {
    "collapsed": false
   },
   "outputs": [
    {
     "data": {
      "text/plain": [
       "expand_categorical"
      ]
     },
     "execution_count": 7,
     "metadata": {},
     "output_type": "execute_result"
    }
   ],
   "source": [
    "\"\"\"\n",
    "This function expands a categorical variable to the associated indicator matrix.\n",
    "\"\"\"\n",
    "function expand_categorical(variable)\n",
    "    uniques = sort(unique(variable))\n",
    "    output = zeros(length(variable), (length(uniques) - 1))\n",
    "    for (index, value) in enumerate(uniques[2:length(uniques)])\n",
    "        output[find(elem -> elem .== value, variable),index] = 1\n",
    "    end\n",
    "    return output\n",
    "end"
   ]
  },
  {
   "cell_type": "code",
   "execution_count": 8,
   "metadata": {
    "collapsed": false
   },
   "outputs": [],
   "source": [
    "X3 = expand_categorical(X3);"
   ]
  },
  {
   "cell_type": "markdown",
   "metadata": {},
   "source": [
    "## Fitting the Model"
   ]
  },
  {
   "cell_type": "markdown",
   "metadata": {},
   "source": [
    "In order to estimate $\\beta$ we can use the normal equation solution.\n",
    "\n",
    "Let us create the design matrix with the intercept."
   ]
  },
  {
   "cell_type": "code",
   "execution_count": 9,
   "metadata": {
    "collapsed": false
   },
   "outputs": [],
   "source": [
    "X = cat(2, X1, X2, X3);\n",
    "if IncludeIntercept == 1\n",
    "    X = cat(2, ones(n,1), X);\n",
    "end\n",
    "print()"
   ]
  },
  {
   "cell_type": "code",
   "execution_count": 10,
   "metadata": {
    "collapsed": true
   },
   "outputs": [],
   "source": [
    "Xt = X';\n",
    "inv_Xt_X = inv(Xt * X);"
   ]
  },
  {
   "cell_type": "code",
   "execution_count": 11,
   "metadata": {
    "collapsed": false
   },
   "outputs": [
    {
     "data": {
      "text/plain": [
       "5-element Array{Float64,1}:\n",
       " -0.0401132\n",
       "  2.0813   \n",
       "  0.97727  \n",
       " -1.64356  \n",
       "  3.01109  "
      ]
     },
     "execution_count": 11,
     "metadata": {},
     "output_type": "execute_result"
    }
   ],
   "source": [
    "β = inv_Xt_X * Xt * y"
   ]
  },
  {
   "cell_type": "markdown",
   "metadata": {},
   "source": [
    "Calculate the predictions $\\hat{y}$"
   ]
  },
  {
   "cell_type": "code",
   "execution_count": 12,
   "metadata": {
    "collapsed": false
   },
   "outputs": [],
   "source": [
    "yhat = X * β;"
   ]
  },
  {
   "cell_type": "markdown",
   "metadata": {},
   "source": [
    "Calculate the residuals"
   ]
  },
  {
   "cell_type": "code",
   "execution_count": 13,
   "metadata": {
    "collapsed": false
   },
   "outputs": [],
   "source": [
    "res = y - yhat;"
   ]
  },
  {
   "cell_type": "markdown",
   "metadata": {},
   "source": [
    "The sum of squares residuals are decomposed by source: *Model* and *Residual*\n",
    "\n",
    "The degrees of freedoms are given by: ESS (k), RSS (n - k - intercept), TSS (n - intercept)"
   ]
  },
  {
   "cell_type": "code",
   "execution_count": 14,
   "metadata": {
    "collapsed": false
   },
   "outputs": [
    {
     "name": "stdout",
     "output_type": "stream",
     "text": [
      "mdf: 4\n",
      "rdf: 95\n",
      "tdf: 99\n"
     ]
    }
   ],
   "source": [
    "mdf = size(X,2) - IncludeIntercept\n",
    "rdf = n - size(X,2)\n",
    "tdf = n - IncludeIntercept\n",
    "print(\"mdf: \", mdf, \"\\n\")\n",
    "print(\"rdf: \", rdf, \"\\n\")\n",
    "print(\"tdf: \", tdf, \"\\n\")"
   ]
  },
  {
   "cell_type": "markdown",
   "metadata": {},
   "source": [
    "The Total Sum of Squared Residuals is defined as: $TSS = \\Sigma\\ (y_{i} - \\bar{y}) ^ 2$"
   ]
  },
  {
   "cell_type": "code",
   "execution_count": 15,
   "metadata": {
    "collapsed": false
   },
   "outputs": [
    {
     "data": {
      "text/plain": [
       "1025.1388643440375"
      ]
     },
     "execution_count": 15,
     "metadata": {},
     "output_type": "execute_result"
    }
   ],
   "source": [
    "TSS = sum((y - mean(y)) .^ 2)"
   ]
  },
  {
   "cell_type": "code",
   "execution_count": 16,
   "metadata": {
    "collapsed": false
   },
   "outputs": [
    {
     "data": {
      "text/plain": [
       "10.354938023677146"
      ]
     },
     "execution_count": 16,
     "metadata": {},
     "output_type": "execute_result"
    }
   ],
   "source": [
    "MTSS = TSS / tdf"
   ]
  },
  {
   "cell_type": "markdown",
   "metadata": {},
   "source": [
    "The Explained Sum of Squared Residuals (ESS) is defined as: $ESS = \\Sigma (\\hat{y}_{i} - \\bar{y})^2$"
   ]
  },
  {
   "cell_type": "code",
   "execution_count": 17,
   "metadata": {
    "collapsed": false
   },
   "outputs": [
    {
     "data": {
      "text/plain": [
       "924.2366986072334"
      ]
     },
     "execution_count": 17,
     "metadata": {},
     "output_type": "execute_result"
    }
   ],
   "source": [
    "ESS = sum((yhat - mean(y)) .^ 2)"
   ]
  },
  {
   "cell_type": "code",
   "execution_count": 18,
   "metadata": {
    "collapsed": false
   },
   "outputs": [
    {
     "data": {
      "text/plain": [
       "231.05917465180835"
      ]
     },
     "execution_count": 18,
     "metadata": {},
     "output_type": "execute_result"
    }
   ],
   "source": [
    "MESS = ESS / mdf"
   ]
  },
  {
   "cell_type": "markdown",
   "metadata": {},
   "source": [
    "The Residual Sum of Squared Residuals by the model (RSS) is defined as: $RSS = \\Sigma (\\hat{y}_{i} - y_{i}) ^ 2 = e^{\\prime}e$"
   ]
  },
  {
   "cell_type": "code",
   "execution_count": 19,
   "metadata": {
    "collapsed": false
   },
   "outputs": [
    {
     "data": {
      "text/plain": [
       "100.90216573680424"
      ]
     },
     "execution_count": 19,
     "metadata": {},
     "output_type": "execute_result"
    }
   ],
   "source": [
    "RSS = res' * res"
   ]
  },
  {
   "cell_type": "code",
   "execution_count": 20,
   "metadata": {
    "collapsed": false
   },
   "outputs": [
    {
     "data": {
      "text/plain": [
       "1.062128060387413"
      ]
     },
     "execution_count": 20,
     "metadata": {},
     "output_type": "execute_result"
    }
   ],
   "source": [
    "MRSS = RSS / rdf"
   ]
  },
  {
   "cell_type": "markdown",
   "metadata": {},
   "source": [
    "Calculate RMSE"
   ]
  },
  {
   "cell_type": "code",
   "execution_count": 21,
   "metadata": {
    "collapsed": false
   },
   "outputs": [
    {
     "data": {
      "text/plain": [
       "1.0305959733995729"
      ]
     },
     "execution_count": 21,
     "metadata": {},
     "output_type": "execute_result"
    }
   ],
   "source": [
    "RMSE = sqrt(MRSS)"
   ]
  },
  {
   "cell_type": "markdown",
   "metadata": {},
   "source": [
    "The coefficient of determination (R-squared) is defined as: $R^{2} = 1 - \\frac{RSS}{TSS}$"
   ]
  },
  {
   "cell_type": "code",
   "execution_count": 22,
   "metadata": {
    "collapsed": false
   },
   "outputs": [
    {
     "data": {
      "text/plain": [
       "0.9015721974394472"
      ]
     },
     "execution_count": 22,
     "metadata": {},
     "output_type": "execute_result"
    }
   ],
   "source": [
    "Rsq = 1 - RSS / TSS"
   ]
  },
  {
   "cell_type": "markdown",
   "metadata": {},
   "source": [
    "$\\beta$ is the expected values of the random variables the model estimated.\n",
    "\n",
    "Standard errors are the measure of uncertainty associated with the estimates of the expected value of parameters.\n",
    "\n",
    "$Var\\left(\\hat{\\beta}\\right) = \\hat{\\sigma} ^ 2 \\left(X^{\\prime}X\\right)^{-1}$\n",
    "\n",
    "$\\hat{\\sigma}$ is estimated from the Mean Residual Sum of Squared Residuals (MRSS)."
   ]
  },
  {
   "cell_type": "code",
   "execution_count": 23,
   "metadata": {
    "collapsed": false
   },
   "outputs": [
    {
     "data": {
      "text/plain": [
       "5-element Array{Float64,1}:\n",
       " 0.180163 \n",
       " 0.100119 \n",
       " 0.0986498\n",
       " 0.260829 \n",
       " 0.248988 "
      ]
     },
     "execution_count": 23,
     "metadata": {},
     "output_type": "execute_result"
    }
   ],
   "source": [
    "se = sqrt.(MRSS * diag(inv_Xt_X))"
   ]
  },
  {
   "cell_type": "markdown",
   "metadata": {},
   "source": [
    "The t-statistics are calculated."
   ]
  },
  {
   "cell_type": "code",
   "execution_count": 24,
   "metadata": {
    "collapsed": false
   },
   "outputs": [
    {
     "data": {
      "text/plain": [
       "5-element Array{Float64,1}:\n",
       " -0.222649\n",
       " 20.7884  \n",
       "  9.90645 \n",
       " -6.3013  \n",
       " 12.0933  "
      ]
     },
     "execution_count": 24,
     "metadata": {},
     "output_type": "execute_result"
    }
   ],
   "source": [
    "t_statistic = β ./ se"
   ]
  },
  {
   "cell_type": "markdown",
   "metadata": {},
   "source": [
    "P-values are calculated using a t-distribution with $n - k - Intercept$ degrees of freedom"
   ]
  },
  {
   "cell_type": "code",
   "execution_count": 25,
   "metadata": {
    "collapsed": false
   },
   "outputs": [
    {
     "data": {
      "text/plain": [
       "Distributions.TDist{Float64}(ν=95.0)"
      ]
     },
     "execution_count": 25,
     "metadata": {},
     "output_type": "execute_result"
    }
   ],
   "source": [
    "t_dist = TDist(rdf)"
   ]
  },
  {
   "cell_type": "markdown",
   "metadata": {},
   "source": [
    "For a two-tailed test, the p-value is twice the area from the t-statistic to the tail."
   ]
  },
  {
   "cell_type": "code",
   "execution_count": 26,
   "metadata": {
    "collapsed": false
   },
   "outputs": [
    {
     "data": {
      "text/plain": [
       "5-element Array{Float64,1}:\n",
       " 0.824287   \n",
       " 4.01682e-37\n",
       " 2.61754e-16\n",
       " 9.18322e-9 \n",
       " 6.20306e-21"
      ]
     },
     "execution_count": 26,
     "metadata": {},
     "output_type": "execute_result"
    }
   ],
   "source": [
    "p_value = 2 * ccdf(t_dist, abs.(t_statistic))"
   ]
  },
  {
   "cell_type": "markdown",
   "metadata": {},
   "source": [
    "To calculate the F-test for the model use the F ratio: $F = \\frac{MESS}{MRSS}$ and FDist( k , n - k - Intercept )"
   ]
  },
  {
   "cell_type": "code",
   "execution_count": 27,
   "metadata": {
    "collapsed": false
   },
   "outputs": [
    {
     "data": {
      "text/plain": [
       "217.5436119892446"
      ]
     },
     "execution_count": 27,
     "metadata": {},
     "output_type": "execute_result"
    }
   ],
   "source": [
    "F = MESS / MRSS"
   ]
  },
  {
   "cell_type": "code",
   "execution_count": 30,
   "metadata": {
    "collapsed": false
   },
   "outputs": [
    {
     "data": {
      "text/plain": [
       "Distributions.FDist{Float64}(ν1=4.0, ν2=95.0)"
      ]
     },
     "execution_count": 30,
     "metadata": {},
     "output_type": "execute_result"
    }
   ],
   "source": [
    "F_dist = FDist(mdf, rdf)"
   ]
  },
  {
   "cell_type": "code",
   "execution_count": 31,
   "metadata": {
    "collapsed": false
   },
   "outputs": [
    {
     "data": {
      "text/plain": [
       "6.528505057098376e-47"
      ]
     },
     "execution_count": 31,
     "metadata": {},
     "output_type": "execute_result"
    }
   ],
   "source": [
    "F_value = ccdf(F_dist, F)"
   ]
  },
  {
   "cell_type": "code",
   "execution_count": 32,
   "metadata": {
    "collapsed": false
   },
   "outputs": [
    {
     "data": {
      "text/plain": [
       "conf_intervals"
      ]
     },
     "execution_count": 32,
     "metadata": {},
     "output_type": "execute_result"
    }
   ],
   "source": [
    "\"\"\"\n",
    "This function calculates confidence intervals given a Distribution, mean (μ), standard deviation (σ), and confidence level.\n",
    "This function can also be used for estimates using the sample statistics.\n",
    "\"\"\"\n",
    "function conf_intervals(Distribution, μ, σ, conf_level = 0.95)\n",
    "    α = 1 - conf_level\n",
    "    tstar = quantile(Distribution, 1 - α / 2)\n",
    "    l, u = μ + [-1, 1] * tstar * σ\n",
    "    return(l,u)\n",
    "end"
   ]
  },
  {
   "cell_type": "code",
   "execution_count": 33,
   "metadata": {
    "collapsed": false
   },
   "outputs": [],
   "source": [
    "CI = Array{Float64}(length(β), 2)\n",
    "for idx in 1:size(CI,1)\n",
    "    CI[idx,1], CI[idx,2] = conf_intervals(t_dist, β[idx], se[idx])\n",
    "end"
   ]
  },
  {
   "cell_type": "code",
   "execution_count": 34,
   "metadata": {
    "collapsed": false
   },
   "outputs": [
    {
     "data": {
      "text/plain": [
       "5×2 Array{Float64,2}:\n",
       " -0.397782   0.317556\n",
       "  1.88254    2.28006 \n",
       "  0.781425   1.17311 \n",
       " -2.16138   -1.12575 \n",
       "  2.51678    3.50539 "
      ]
     },
     "execution_count": 34,
     "metadata": {},
     "output_type": "execute_result"
    }
   ],
   "source": [
    "CI"
   ]
  },
  {
   "cell_type": "markdown",
   "metadata": {},
   "source": [
    "## Output"
   ]
  },
  {
   "cell_type": "code",
   "execution_count": 35,
   "metadata": {
    "collapsed": true
   },
   "outputs": [],
   "source": [
    "using DataFrames"
   ]
  },
  {
   "cell_type": "code",
   "execution_count": 36,
   "metadata": {
    "collapsed": false
   },
   "outputs": [
    {
     "data": {
      "text/html": [
       "<table class=\"data-frame\"><thead><tr><th></th><th>Feature</th><th>Coeff</th><th>Std_Error</th><th>t_Statistic</th><th>p_value</th><th>LowerCI</th><th>UpperCI</th></tr></thead><tbody><tr><th>1</th><td>Intercept</td><td>-0.0401</td><td>0.1802</td><td>-0.2226</td><td>0.8243</td><td>-0.3978</td><td>0.3176</td></tr><tr><th>2</th><td>X1</td><td>2.0813</td><td>0.1001</td><td>20.7884</td><td>0.0</td><td>1.8825</td><td>2.2801</td></tr><tr><th>3</th><td>X2</td><td>0.9773</td><td>0.0986</td><td>9.9065</td><td>0.0</td><td>0.7814</td><td>1.1731</td></tr><tr><th>4</th><td>B</td><td>-1.6436</td><td>0.2608</td><td>-6.3013</td><td>0.0</td><td>-2.1614</td><td>-1.1258</td></tr><tr><th>5</th><td>C</td><td>3.0111</td><td>0.249</td><td>12.0933</td><td>0.0</td><td>2.5168</td><td>3.5054</td></tr></tbody></table>"
      ],
      "text/plain": [
       "5×7 DataFrames.DataFrame\n",
       "│ Row │ Feature     │ Coeff   │ Std_Error │ t_Statistic │ p_value │ LowerCI │\n",
       "├─────┼─────────────┼─────────┼───────────┼─────────────┼─────────┼─────────┤\n",
       "│ 1   │ \"Intercept\" │ -0.0401 │ 0.1802    │ -0.2226     │ 0.8243  │ -0.3978 │\n",
       "│ 2   │ \"X1\"        │ 2.0813  │ 0.1001    │ 20.7884     │ 0.0     │ 1.8825  │\n",
       "│ 3   │ \"X2\"        │ 0.9773  │ 0.0986    │ 9.9065      │ 0.0     │ 0.7814  │\n",
       "│ 4   │ \"B\"         │ -1.6436 │ 0.2608    │ -6.3013     │ 0.0     │ -2.1614 │\n",
       "│ 5   │ \"C\"         │ 3.0111  │ 0.249     │ 12.0933     │ 0.0     │ 2.5168  │\n",
       "\n",
       "│ Row │ UpperCI │\n",
       "├─────┼─────────┤\n",
       "│ 1   │ 0.3176  │\n",
       "│ 2   │ 2.2801  │\n",
       "│ 3   │ 1.1731  │\n",
       "│ 4   │ -1.1258 │\n",
       "│ 5   │ 3.5054  │"
      ]
     },
     "execution_count": 36,
     "metadata": {},
     "output_type": "execute_result"
    }
   ],
   "source": [
    "Results = DataFrame(cat(2,[\"Intercept\", \"X1\", \"X2\", \"B\", \"C\"],round.(cat(2,β,se,t_statistic,p_value,CI), 4)))\n",
    "names!(Results, [:Feature, :Coeff, :Std_Error, :t_Statistic, :p_value, :LowerCI, :UpperCI])\n",
    "Results"
   ]
  },
  {
   "cell_type": "code",
   "execution_count": 39,
   "metadata": {
    "collapsed": false
   },
   "outputs": [
    {
     "data": {
      "text/html": [
       "<table class=\"data-frame\"><thead><tr><th></th><th>Source</th><th>SS</th><th>df</th><th>MS</th></tr></thead><tbody><tr><th>1</th><td>Model</td><td>924.2367</td><td>4.0</td><td>231.0592</td></tr><tr><th>2</th><td>Residual</td><td>100.9022</td><td>95.0</td><td>1.0621</td></tr><tr><th>3</th><td>Total</td><td>1025.1389</td><td>99.0</td><td>10.3549</td></tr></tbody></table>"
      ],
      "text/plain": [
       "3×4 DataFrames.DataFrame\n",
       "│ Row │ Source     │ SS      │ df   │ MS      │\n",
       "├─────┼────────────┼─────────┼──────┼─────────┤\n",
       "│ 1   │ \"Model\"    │ 924.237 │ 4.0  │ 231.059 │\n",
       "│ 2   │ \"Residual\" │ 100.902 │ 95.0 │ 1.0621  │\n",
       "│ 3   │ \"Total\"    │ 1025.14 │ 99.0 │ 10.3549 │"
      ]
     },
     "execution_count": 39,
     "metadata": {},
     "output_type": "execute_result"
    }
   ],
   "source": [
    "Anova = DataFrame(cat(2, [\"Model\", \"Residual\", \"Total\"], round.(cat(2, [ESS, RSS, TSS], [mdf, rdf, tdf], [MESS, MRSS, MTSS]), 4)))\n",
    "names!(Anova, [:Source, :SS, :df, :MS])\n",
    "Anova"
   ]
  },
  {
   "cell_type": "code",
   "execution_count": 40,
   "metadata": {
    "collapsed": false
   },
   "outputs": [
    {
     "data": {
      "text/html": [
       "<table class=\"data-frame\"><thead><tr><th></th><th>Statistic</th><th>Value</th></tr></thead><tbody><tr><th>1</th><td>Sample Size</td><td>100.0</td></tr><tr><th>2</th><td>R-Squared</td><td>0.9016</td></tr><tr><th>3</th><td>F-Statistic</td><td>217.5436</td></tr><tr><th>4</th><td>F-value</td><td>0.0</td></tr><tr><th>5</th><td>RMSE</td><td>1.0306</td></tr></tbody></table>"
      ],
      "text/plain": [
       "5×2 DataFrames.DataFrame\n",
       "│ Row │ Statistic     │ Value   │\n",
       "├─────┼───────────────┼─────────┤\n",
       "│ 1   │ \"Sample Size\" │ 100.0   │\n",
       "│ 2   │ \"R-Squared\"   │ 0.9016  │\n",
       "│ 3   │ \"F-Statistic\" │ 217.544 │\n",
       "│ 4   │ \"F-value\"     │ 0.0     │\n",
       "│ 5   │ \"RMSE\"        │ 1.0306  │"
      ]
     },
     "execution_count": 40,
     "metadata": {},
     "output_type": "execute_result"
    }
   ],
   "source": [
    "Model = DataFrame(cat(2, [\"Sample Size\", \"R-Squared\", \"F-Statistic\", \"F-value\", \"RMSE\"], round.([n, Rsq, F, F_value, RMSE],4)))\n",
    "names!(Model, [:Statistic, :Value])\n",
    "Model"
   ]
  },
  {
   "cell_type": "markdown",
   "metadata": {},
   "source": [
    "## Diagnostics"
   ]
  },
  {
   "cell_type": "markdown",
   "metadata": {},
   "source": [
    "### Multicollinearity through Variance Inflation Factor (VIF)"
   ]
  },
  {
   "cell_type": "code",
   "execution_count": 42,
   "metadata": {
    "collapsed": false
   },
   "outputs": [
    {
     "data": {
      "text/plain": [
       "VIF"
      ]
     },
     "execution_count": 42,
     "metadata": {},
     "output_type": "execute_result"
    }
   ],
   "source": [
    "\"\"\"\n",
    "VIF computes the sqrt VIF and mean sqrt VIF for all features.\n",
    "\"\"\"\n",
    "function VIF(X, IncludeIntercept)\n",
    "    output = Vector{Float64}((size(X,2) - IncludeIntercept) + 1)\n",
    "    for idx in 2:size(X,2)\n",
    "        y = X[:,idx]\n",
    "        x = X[:,setdiff(1:size(X,2),idx)]\n",
    "        β = inv(x' * x) * x' * y\n",
    "        yhat = x * β\n",
    "        res = y - yhat\n",
    "        RSS = res' * res\n",
    "        TSS = sum((y - mean(y)) .^ 2)\n",
    "        Rsq = 1 - RSS / TSS\n",
    "        vif = 1 / ( 1 - Rsq)\n",
    "        output[idx  - 1] = sqrt(vif)\n",
    "    end\n",
    "    output[length(output)] = mean(output[1:(length(output) - 1)])\n",
    "    return output\n",
    "end"
   ]
  },
  {
   "cell_type": "code",
   "execution_count": 43,
   "metadata": {
    "collapsed": false
   },
   "outputs": [
    {
     "data": {
      "text/html": [
       "<table class=\"data-frame\"><thead><tr><th></th><th>Statistic</th><th>Value</th></tr></thead><tbody><tr><th>1</th><td>X1</td><td>1.021</td></tr><tr><th>2</th><td>X2</td><td>1.0122</td></tr><tr><th>3</th><td>B</td><td>1.1598</td></tr><tr><th>4</th><td>C</td><td>1.1597</td></tr><tr><th>5</th><td>Mean sqrt VIF</td><td>1.0882</td></tr></tbody></table>"
      ],
      "text/plain": [
       "5×2 DataFrames.DataFrame\n",
       "│ Row │ Statistic       │ Value  │\n",
       "├─────┼─────────────────┼────────┤\n",
       "│ 1   │ \"X1\"            │ 1.021  │\n",
       "│ 2   │ \"X2\"            │ 1.0122 │\n",
       "│ 3   │ \"B\"             │ 1.1598 │\n",
       "│ 4   │ \"C\"             │ 1.1597 │\n",
       "│ 5   │ \"Mean sqrt VIF\" │ 1.0882 │"
      ]
     },
     "execution_count": 43,
     "metadata": {},
     "output_type": "execute_result"
    }
   ],
   "source": [
    "VIF(X, IncludeIntercept)\n",
    "vif = DataFrame(cat(2,[\"X1\", \"X2\", \"B\", \"C\", \"Mean sqrt VIF\"], round.(VIF(X, IncludeIntercept), 4)))\n",
    "names!(vif, [:Statistic, :Value])"
   ]
  },
  {
   "cell_type": "code",
   "execution_count": null,
   "metadata": {
    "collapsed": true
   },
   "outputs": [],
   "source": []
  }
 ],
 "metadata": {
  "kernelspec": {
   "display_name": "Julia",
   "language": "julia",
   "name": "julia-0.6"
  },
  "language_info": {
   "file_extension": ".jl",
   "mimetype": "application/julia",
   "name": "julia",
   "version": "0.6.0"
  }
 },
 "nbformat": 4,
 "nbformat_minor": 1
}
