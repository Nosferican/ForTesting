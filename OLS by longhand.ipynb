{
 "cells": [
  {
   "cell_type": "markdown",
   "metadata": {},
   "source": [
    "# Calculating OLS"
   ]
  },
  {
   "cell_type": "markdown",
   "metadata": {},
   "source": [
    "This exercise will walk you through calculating a multivariate ordinary linear regression."
   ]
  },
  {
   "cell_type": "markdown",
   "metadata": {},
   "source": [
    "## Housekeeping"
   ]
  },
  {
   "cell_type": "code",
   "execution_count": 1,
   "metadata": {
    "collapsed": true
   },
   "outputs": [],
   "source": [
    "using Distributions"
   ]
  },
  {
   "cell_type": "markdown",
   "metadata": {},
   "source": [
    "In order to make the results replicable set the seed."
   ]
  },
  {
   "cell_type": "code",
   "execution_count": 2,
   "metadata": {
    "collapsed": false
   },
   "outputs": [],
   "source": [
    "srand(0);"
   ]
  },
  {
   "cell_type": "markdown",
   "metadata": {},
   "source": [
    "In this step we define the following parameters"
   ]
  },
  {
   "cell_type": "code",
   "execution_count": 3,
   "metadata": {
    "collapsed": false
   },
   "outputs": [],
   "source": [
    "n = 100; # Number of observations\n",
    "k = 2; # Number of features\n",
    "beta1 = 2; # Weights on X1 and X2\n",
    "beta2 = 1;\n",
    "IncludeIntercept = true;"
   ]
  },
  {
   "cell_type": "markdown",
   "metadata": {},
   "source": [
    "## Generating the data"
   ]
  },
  {
   "cell_type": "markdown",
   "metadata": {},
   "source": [
    "Let us generate two features using *n* random numbers from a standard normal distribution: $X_{1}$ and $X_{2}$."
   ]
  },
  {
   "cell_type": "code",
   "execution_count": 4,
   "metadata": {
    "collapsed": true
   },
   "outputs": [],
   "source": [
    "X1 = randn(n);\n",
    "X2 = randn(n);"
   ]
  },
  {
   "cell_type": "markdown",
   "metadata": {},
   "source": [
    "Let us generate a random normal response (outcome variable) using a linear combination of $X_{1}$, $X_{2}$, and noise in the form of random draws from a standard normal distribution."
   ]
  },
  {
   "cell_type": "code",
   "execution_count": 5,
   "metadata": {
    "collapsed": false
   },
   "outputs": [],
   "source": [
    "y = beta1 * X1 + beta2 * X2 + randn(n);"
   ]
  },
  {
   "cell_type": "markdown",
   "metadata": {},
   "source": [
    "To verify output with other software one can export the data as a text file."
   ]
  },
  {
   "cell_type": "code",
   "execution_count": 6,
   "metadata": {
    "collapsed": true
   },
   "outputs": [],
   "source": [
    "# writedlm(\"/Users/jbsc/JuliaData.csv\", cat(2,y,X1,X2), \",\")"
   ]
  },
  {
   "cell_type": "markdown",
   "metadata": {},
   "source": [
    "## Fitting the Model"
   ]
  },
  {
   "cell_type": "markdown",
   "metadata": {},
   "source": [
    "In order to estimate $\\beta$ we can use the normal equation solution.\n",
    "\n",
    "Let us create the design matrix with the intercept."
   ]
  },
  {
   "cell_type": "code",
   "execution_count": 7,
   "metadata": {
    "collapsed": false
   },
   "outputs": [],
   "source": [
    "X = cat(2, ones(n,1),X1,X2);"
   ]
  },
  {
   "cell_type": "code",
   "execution_count": 8,
   "metadata": {
    "collapsed": true
   },
   "outputs": [],
   "source": [
    "Xt = X';\n",
    "inv_Xt_X = inv(Xt * X);"
   ]
  },
  {
   "cell_type": "code",
   "execution_count": 9,
   "metadata": {
    "collapsed": false
   },
   "outputs": [
    {
     "data": {
      "text/plain": [
       "3-element Array{Float64,1}:\n",
       " -0.0850227\n",
       "  2.13912  \n",
       "  0.944262 "
      ]
     },
     "execution_count": 9,
     "metadata": {},
     "output_type": "execute_result"
    }
   ],
   "source": [
    "β = inv_Xt_X * Xt * y"
   ]
  },
  {
   "cell_type": "markdown",
   "metadata": {},
   "source": [
    "Calculate the predictions $\\hat{y}$"
   ]
  },
  {
   "cell_type": "code",
   "execution_count": 10,
   "metadata": {
    "collapsed": false
   },
   "outputs": [],
   "source": [
    "yhat = X * β;"
   ]
  },
  {
   "cell_type": "markdown",
   "metadata": {},
   "source": [
    "Calculate the residuals"
   ]
  },
  {
   "cell_type": "code",
   "execution_count": 11,
   "metadata": {
    "collapsed": false
   },
   "outputs": [],
   "source": [
    "res = y - yhat;"
   ]
  },
  {
   "cell_type": "markdown",
   "metadata": {},
   "source": [
    "The sum of squares residuals are decomposed by source: *Model* and *Residual*\n",
    "\n",
    "The degrees of freedoms are given by: ESS (k), RSS (n - k - intercept), TSS (n - intercept)"
   ]
  },
  {
   "cell_type": "markdown",
   "metadata": {},
   "source": [
    "The Total Sum of Squared Residuals is defined as: $TSS = \\Sigma\\ (y_{i} - \\bar{y}) ^ 2$"
   ]
  },
  {
   "cell_type": "code",
   "execution_count": 12,
   "metadata": {
    "collapsed": false
   },
   "outputs": [
    {
     "data": {
      "text/plain": [
       "612.9278300078876"
      ]
     },
     "execution_count": 12,
     "metadata": {},
     "output_type": "execute_result"
    }
   ],
   "source": [
    "TSS = sum((y - mean(y)) .^ 2)"
   ]
  },
  {
   "cell_type": "code",
   "execution_count": 13,
   "metadata": {
    "collapsed": false
   },
   "outputs": [
    {
     "data": {
      "text/plain": [
       "6.191190202099874"
      ]
     },
     "execution_count": 13,
     "metadata": {},
     "output_type": "execute_result"
    }
   ],
   "source": [
    "MTSS = TSS / (n - Float64(IncludeIntercept))"
   ]
  },
  {
   "cell_type": "markdown",
   "metadata": {},
   "source": [
    "The Explained Sum of Squared Residuals (ESS) is defined as: $ESS = \\Sigma (\\hat{y}_{i} - \\bar{y})^2$"
   ]
  },
  {
   "cell_type": "code",
   "execution_count": 14,
   "metadata": {
    "collapsed": false
   },
   "outputs": [
    {
     "data": {
      "text/plain": [
       "545.9217014773542"
      ]
     },
     "execution_count": 14,
     "metadata": {},
     "output_type": "execute_result"
    }
   ],
   "source": [
    "ESS = sum((yhat - mean(y)) .^ 2)"
   ]
  },
  {
   "cell_type": "code",
   "execution_count": 15,
   "metadata": {
    "collapsed": false
   },
   "outputs": [
    {
     "data": {
      "text/plain": [
       "272.9608507386771"
      ]
     },
     "execution_count": 15,
     "metadata": {},
     "output_type": "execute_result"
    }
   ],
   "source": [
    "MESS = ESS / k"
   ]
  },
  {
   "cell_type": "markdown",
   "metadata": {},
   "source": [
    "The Residual Sum of Squared Residuals by the model (RSS) is defined as: $RSS = \\Sigma (\\hat{y}_{i} - y_{i}) ^ 2 = e^{\\prime}e$"
   ]
  },
  {
   "cell_type": "code",
   "execution_count": 16,
   "metadata": {
    "collapsed": false
   },
   "outputs": [
    {
     "data": {
      "text/plain": [
       "67.0061285305332"
      ]
     },
     "execution_count": 16,
     "metadata": {},
     "output_type": "execute_result"
    }
   ],
   "source": [
    "RSS = res' * res"
   ]
  },
  {
   "cell_type": "code",
   "execution_count": 17,
   "metadata": {
    "collapsed": false
   },
   "outputs": [
    {
     "data": {
      "text/plain": [
       "0.6907848302116825"
      ]
     },
     "execution_count": 17,
     "metadata": {},
     "output_type": "execute_result"
    }
   ],
   "source": [
    "MRSS = RSS / (n - k - Float64(IncludeIntercept))"
   ]
  },
  {
   "cell_type": "markdown",
   "metadata": {},
   "source": [
    "Calculate RMSE"
   ]
  },
  {
   "cell_type": "code",
   "execution_count": 18,
   "metadata": {
    "collapsed": false
   },
   "outputs": [
    {
     "data": {
      "text/plain": [
       "0.831134664306382"
      ]
     },
     "execution_count": 18,
     "metadata": {},
     "output_type": "execute_result"
    }
   ],
   "source": [
    "RMSE = sqrt(MRSS)"
   ]
  },
  {
   "cell_type": "markdown",
   "metadata": {},
   "source": [
    "The coefficient of determination (R-squared) is defined as: $R^{2} = 1 - \\frac{RSS}{TSS}$"
   ]
  },
  {
   "cell_type": "code",
   "execution_count": 19,
   "metadata": {
    "collapsed": false
   },
   "outputs": [
    {
     "data": {
      "text/plain": [
       "0.890678599910089"
      ]
     },
     "execution_count": 19,
     "metadata": {},
     "output_type": "execute_result"
    }
   ],
   "source": [
    "Rsq = 1 - RSS / TSS"
   ]
  },
  {
   "cell_type": "markdown",
   "metadata": {},
   "source": [
    "$\\beta$ is the expected values of the random variables the model estimated.\n",
    "\n",
    "Standard errors are the measure of uncertainty associated with the estimates of the expected value of parameters.\n",
    "\n",
    "$Var\\left(\\hat{\\beta}\\right) = \\hat{\\sigma} ^ 2 \\left(X^{\\prime}X\\right)^{-1}$\n",
    "\n",
    "$\\hat{\\sigma}$ is estimated from the Mean Residual Sum of Squared Residuals (MRSS)."
   ]
  },
  {
   "cell_type": "code",
   "execution_count": 20,
   "metadata": {
    "collapsed": false
   },
   "outputs": [
    {
     "data": {
      "text/plain": [
       "3-element Array{Float64,1}:\n",
       " 0.0839841\n",
       " 0.0797778\n",
       " 0.0792884"
      ]
     },
     "execution_count": 20,
     "metadata": {},
     "output_type": "execute_result"
    }
   ],
   "source": [
    "se = sqrt.(MRSS * diag(inv_Xt_X))"
   ]
  },
  {
   "cell_type": "markdown",
   "metadata": {},
   "source": [
    "The t-statistics are calculated."
   ]
  },
  {
   "cell_type": "code",
   "execution_count": 21,
   "metadata": {
    "collapsed": false
   },
   "outputs": [
    {
     "data": {
      "text/plain": [
       "3-element Array{Float64,1}:\n",
       " -1.01237\n",
       " 26.8134 \n",
       " 11.9092 "
      ]
     },
     "execution_count": 21,
     "metadata": {},
     "output_type": "execute_result"
    }
   ],
   "source": [
    "t_statistic = β ./ se"
   ]
  },
  {
   "cell_type": "markdown",
   "metadata": {},
   "source": [
    "P-values are calculated using a t-distribution with $n - k - Intercept$ degrees of freedom"
   ]
  },
  {
   "cell_type": "code",
   "execution_count": 22,
   "metadata": {
    "collapsed": false
   },
   "outputs": [
    {
     "data": {
      "text/plain": [
       "Distributions.TDist{Float64}(ν=97.0)"
      ]
     },
     "execution_count": 22,
     "metadata": {},
     "output_type": "execute_result"
    }
   ],
   "source": [
    "t_dist = TDist(n - k - Float64(IncludeIntercept))"
   ]
  },
  {
   "cell_type": "markdown",
   "metadata": {},
   "source": [
    "For a two-tailed test, the p-value is twice the area from the t-statistic to the tail."
   ]
  },
  {
   "cell_type": "code",
   "execution_count": 23,
   "metadata": {
    "collapsed": false
   },
   "outputs": [
    {
     "data": {
      "text/plain": [
       "3-element Array{Float64,1}:\n",
       " 0.313881   \n",
       " 1.19341e-46\n",
       " 1.09355e-20"
      ]
     },
     "execution_count": 23,
     "metadata": {},
     "output_type": "execute_result"
    }
   ],
   "source": [
    "p_value = 2 * ccdf(t_dist, abs.(t_statistic))"
   ]
  },
  {
   "cell_type": "markdown",
   "metadata": {},
   "source": [
    "To calculate the F-test for the model use the F ratio: $F = \\frac{MESS}{MRSS}$ and FDist( k , n - k - Intercept )"
   ]
  },
  {
   "cell_type": "code",
   "execution_count": 24,
   "metadata": {
    "collapsed": false
   },
   "outputs": [
    {
     "data": {
      "text/plain": [
       "395.14598294671816"
      ]
     },
     "execution_count": 24,
     "metadata": {},
     "output_type": "execute_result"
    }
   ],
   "source": [
    "F = MESS / MRSS"
   ]
  },
  {
   "cell_type": "code",
   "execution_count": 25,
   "metadata": {
    "collapsed": false
   },
   "outputs": [
    {
     "data": {
      "text/plain": [
       "Distributions.FDist{Float64}(ν1=2.0, ν2=97.0)"
      ]
     },
     "execution_count": 25,
     "metadata": {},
     "output_type": "execute_result"
    }
   ],
   "source": [
    "F_dist = FDist(k, n - k - Float64(IncludeIntercept))"
   ]
  },
  {
   "cell_type": "code",
   "execution_count": 26,
   "metadata": {
    "collapsed": false
   },
   "outputs": [
    {
     "data": {
      "text/plain": [
       "2.38342493063221e-47"
      ]
     },
     "execution_count": 26,
     "metadata": {},
     "output_type": "execute_result"
    }
   ],
   "source": [
    "F_value = ccdf(F_dist, F)"
   ]
  },
  {
   "cell_type": "code",
   "execution_count": 27,
   "metadata": {
    "collapsed": false
   },
   "outputs": [
    {
     "data": {
      "text/plain": [
       "conf_intervals"
      ]
     },
     "execution_count": 27,
     "metadata": {},
     "output_type": "execute_result"
    }
   ],
   "source": [
    "\"\"\"\n",
    "This function calculates confidence intervals given a Distribution, mean (μ), standard deviation (σ), and confidence level.\n",
    "This function can also be used for estimates using the sample statistics.\n",
    "\"\"\"\n",
    "function conf_intervals(Distribution, μ, σ, conf_level = 0.95)\n",
    "    α = 1 - conf_level\n",
    "    tstar = quantile(Distribution, 1 - α / 2)\n",
    "    l, u = μ + [-1, 1] * tstar * σ\n",
    "    return(l,u)\n",
    "end"
   ]
  },
  {
   "cell_type": "code",
   "execution_count": 28,
   "metadata": {
    "collapsed": false
   },
   "outputs": [],
   "source": [
    "CI = Array{Float64}(length(β), 2)\n",
    "for idx in 1:size(CI,1)\n",
    "    CI[idx,1], CI[idx,2] = conf_intervals(t_dist, β[idx], se[idx])\n",
    "end"
   ]
  },
  {
   "cell_type": "markdown",
   "metadata": {},
   "source": [
    "## Output"
   ]
  },
  {
   "cell_type": "code",
   "execution_count": 29,
   "metadata": {
    "collapsed": true
   },
   "outputs": [],
   "source": [
    "using DataFrames"
   ]
  },
  {
   "cell_type": "code",
   "execution_count": 30,
   "metadata": {
    "collapsed": false
   },
   "outputs": [
    {
     "data": {
      "text/html": [
       "<table class=\"data-frame\"><thead><tr><th></th><th>Feature</th><th>Coeff</th><th>Std_Error</th><th>t_Statistic</th><th>p_value</th><th>LowerCI</th><th>UpperCI</th></tr></thead><tbody><tr><th>1</th><td>Intercept</td><td>-0.085</td><td>0.084</td><td>-1.0124</td><td>0.3139</td><td>-0.2517</td><td>0.0817</td></tr><tr><th>2</th><td>X1</td><td>2.1391</td><td>0.0798</td><td>26.8134</td><td>0.0</td><td>1.9808</td><td>2.2975</td></tr><tr><th>3</th><td>X2</td><td>0.9443</td><td>0.0793</td><td>11.9092</td><td>0.0</td><td>0.7869</td><td>1.1016</td></tr></tbody></table>"
      ],
      "text/plain": [
       "3×7 DataFrames.DataFrame\n",
       "│ Row │ Feature     │ Coeff  │ Std_Error │ t_Statistic │ p_value │ LowerCI │\n",
       "├─────┼─────────────┼────────┼───────────┼─────────────┼─────────┼─────────┤\n",
       "│ 1   │ \"Intercept\" │ -0.085 │ 0.084     │ -1.0124     │ 0.3139  │ -0.2517 │\n",
       "│ 2   │ \"X1\"        │ 2.1391 │ 0.0798    │ 26.8134     │ 0.0     │ 1.9808  │\n",
       "│ 3   │ \"X2\"        │ 0.9443 │ 0.0793    │ 11.9092     │ 0.0     │ 0.7869  │\n",
       "\n",
       "│ Row │ UpperCI │\n",
       "├─────┼─────────┤\n",
       "│ 1   │ 0.0817  │\n",
       "│ 2   │ 2.2975  │\n",
       "│ 3   │ 1.1016  │"
      ]
     },
     "execution_count": 30,
     "metadata": {},
     "output_type": "execute_result"
    }
   ],
   "source": [
    "Results = DataFrame(cat(2,[\"Intercept\", \"X1\", \"X2\"],round.(cat(2,β,se,t_statistic,p_value,CI), 4)))\n",
    "names!(Results, [:Feature, :Coeff, :Std_Error, :t_Statistic, :p_value, :LowerCI, :UpperCI])\n",
    "Results"
   ]
  },
  {
   "cell_type": "code",
   "execution_count": 31,
   "metadata": {
    "collapsed": false
   },
   "outputs": [
    {
     "data": {
      "text/html": [
       "<table class=\"data-frame\"><thead><tr><th></th><th>Source</th><th>SS</th><th>df</th><th>MS</th></tr></thead><tbody><tr><th>1</th><td>Model</td><td>545.9217</td><td>2.0</td><td>272.9609</td></tr><tr><th>2</th><td>Residual</td><td>67.0061</td><td>97.0</td><td>0.6908</td></tr><tr><th>3</th><td>Total</td><td>612.9278</td><td>99.0</td><td>6.1912</td></tr></tbody></table>"
      ],
      "text/plain": [
       "3×4 DataFrames.DataFrame\n",
       "│ Row │ Source     │ SS      │ df   │ MS      │\n",
       "├─────┼────────────┼─────────┼──────┼─────────┤\n",
       "│ 1   │ \"Model\"    │ 545.922 │ 2.0  │ 272.961 │\n",
       "│ 2   │ \"Residual\" │ 67.0061 │ 97.0 │ 0.6908  │\n",
       "│ 3   │ \"Total\"    │ 612.928 │ 99.0 │ 6.1912  │"
      ]
     },
     "execution_count": 31,
     "metadata": {},
     "output_type": "execute_result"
    }
   ],
   "source": [
    "Anova = DataFrame(cat(2, [\"Model\", \"Residual\", \"Total\"], round.(cat(2, [ESS, RSS, TSS], [k, n - k - Float64(IncludeIntercept), n - Float64(IncludeIntercept)], [MESS, MRSS, MTSS]), 4)))\n",
    "names!(Anova, [:Source, :SS, :df, :MS])\n",
    "Anova"
   ]
  },
  {
   "cell_type": "code",
   "execution_count": 32,
   "metadata": {
    "collapsed": false
   },
   "outputs": [
    {
     "data": {
      "text/html": [
       "<table class=\"data-frame\"><thead><tr><th></th><th>Statistic</th><th>Value</th></tr></thead><tbody><tr><th>1</th><td>Sample Size</td><td>100.0</td></tr><tr><th>2</th><td>R-Squared</td><td>0.8907</td></tr><tr><th>3</th><td>F-Statistic</td><td>395.146</td></tr><tr><th>4</th><td>F-value</td><td>0.0</td></tr><tr><th>5</th><td>RMSE</td><td>0.8311</td></tr></tbody></table>"
      ],
      "text/plain": [
       "5×2 DataFrames.DataFrame\n",
       "│ Row │ Statistic     │ Value   │\n",
       "├─────┼───────────────┼─────────┤\n",
       "│ 1   │ \"Sample Size\" │ 100.0   │\n",
       "│ 2   │ \"R-Squared\"   │ 0.8907  │\n",
       "│ 3   │ \"F-Statistic\" │ 395.146 │\n",
       "│ 4   │ \"F-value\"     │ 0.0     │\n",
       "│ 5   │ \"RMSE\"        │ 0.8311  │"
      ]
     },
     "execution_count": 32,
     "metadata": {},
     "output_type": "execute_result"
    }
   ],
   "source": [
    "Model = DataFrame(cat(2, [\"Sample Size\", \"R-Squared\", \"F-Statistic\", \"F-value\", \"RMSE\"], round.([n, Rsq, F, F_value, RMSE],4)))\n",
    "names!(Model, [:Statistic, :Value])\n",
    "Model"
   ]
  },
  {
   "cell_type": "code",
   "execution_count": null,
   "metadata": {
    "collapsed": true
   },
   "outputs": [],
   "source": []
  }
 ],
 "metadata": {
  "kernelspec": {
   "display_name": "Julia",
   "language": "julia",
   "name": "julia-0.6"
  },
  "language_info": {
   "file_extension": ".jl",
   "mimetype": "application/julia",
   "name": "julia",
   "version": "0.6.0"
  }
 },
 "nbformat": 4,
 "nbformat_minor": 1
}
