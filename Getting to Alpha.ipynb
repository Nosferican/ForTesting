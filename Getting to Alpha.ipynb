{
 "cells": [
  {
   "cell_type": "code",
   "execution_count": 5,
   "metadata": {},
   "outputs": [],
   "source": [
    "using Econometrics"
   ]
  },
  {
   "cell_type": "code",
   "execution_count": 6,
   "metadata": {},
   "outputs": [],
   "source": [
    "model = pdmodel(@formula(ln_wage ~\n",
    "                        age + collgrad + union + tenure + hours + race),\n",
    "                readtable(\"NLS.csv\"), :idcode, :year);"
   ]
  },
  {
   "cell_type": "code",
   "execution_count": 7,
   "metadata": {},
   "outputs": [
    {
     "name": "stdout",
     "output_type": "stream",
     "text": [
      "Estimator: pooling\n",
      "Nobs: 18976\n",
      "R-squared: 0.27\n",
      "F-test: 0.0\n",
      "Estandard Errors: asymptotic\n",
      "Confidence Interval: 0.95\n"
     ]
    },
    {
     "data": {
      "text/html": [
       "<table class=\"data-frame\"><tr><th></th><th>Feature</th><th>β</th><th>se</th><th>t</th><th>p</th><th>LB</th><th>UB</th></tr><tr><th>1</th><td>(Intercept)</td><td>1.28554</td><td>0.0203988</td><td>63.0203</td><td>0.0</td><td>1.24556</td><td>1.32552</td></tr><tr><th>2</th><td>age</td><td>0.00241081</td><td>0.000505822</td><td>4.76612</td><td>0.0</td><td>0.00141935</td><td>0.00340226</td></tr><tr><th>3</th><td>collgrad</td><td>0.359833</td><td>0.00745033</td><td>48.2976</td><td>0.0</td><td>0.34523</td><td>0.374437</td></tr><tr><th>4</th><td>union</td><td>0.16286</td><td>0.00699642</td><td>23.2777</td><td>0.0</td><td>0.149147</td><td>0.176574</td></tr><tr><th>5</th><td>tenure</td><td>0.0324244</td><td>0.00077087</td><td>42.062</td><td>0.0</td><td>0.0309134</td><td>0.0339353</td></tr><tr><th>6</th><td>hours</td><td>0.00146944</td><td>0.000310937</td><td>4.72584</td><td>0.0</td><td>0.000859972</td><td>0.0020789</td></tr><tr><th>7</th><td>race: other</td><td>0.144026</td><td>0.00654817</td><td>21.9949</td><td>0.0</td><td>0.131191</td><td>0.156861</td></tr><tr><th>8</th><td>race: white</td><td>0.21371</td><td>0.0282328</td><td>7.56955</td><td>0.0</td><td>0.158371</td><td>0.269048</td></tr></table>"
      ],
      "text/plain": [
       "8×7 DataTables.DataTable\n",
       "│ Row │ Feature     │ β          │ se          │ t       │ p   │ LB          │\n",
       "├─────┼─────────────┼────────────┼─────────────┼─────────┼─────┼─────────────┤\n",
       "│ 1   │ (Intercept) │ 1.28554    │ 0.0203988   │ 63.0203 │ 0.0 │ 1.24556     │\n",
       "│ 2   │ age         │ 0.00241081 │ 0.000505822 │ 4.76612 │ 0.0 │ 0.00141935  │\n",
       "│ 3   │ collgrad    │ 0.359833   │ 0.00745033  │ 48.2976 │ 0.0 │ 0.34523     │\n",
       "│ 4   │ union       │ 0.16286    │ 0.00699642  │ 23.2777 │ 0.0 │ 0.149147    │\n",
       "│ 5   │ tenure      │ 0.0324244  │ 0.00077087  │ 42.062  │ 0.0 │ 0.0309134   │\n",
       "│ 6   │ hours       │ 0.00146944 │ 0.000310937 │ 4.72584 │ 0.0 │ 0.000859972 │\n",
       "│ 7   │ race: other │ 0.144026   │ 0.00654817  │ 21.9949 │ 0.0 │ 0.131191    │\n",
       "│ 8   │ race: white │ 0.21371    │ 0.0282328   │ 7.56955 │ 0.0 │ 0.158371    │\n",
       "\n",
       "│ Row │ UB         │\n",
       "├─────┼────────────┤\n",
       "│ 1   │ 1.32552    │\n",
       "│ 2   │ 0.00340226 │\n",
       "│ 3   │ 0.374437   │\n",
       "│ 4   │ 0.176574   │\n",
       "│ 5   │ 0.0339353  │\n",
       "│ 6   │ 0.0020789  │\n",
       "│ 7   │ 0.156861   │\n",
       "│ 8   │ 0.269048   │"
      ]
     },
     "execution_count": 7,
     "metadata": {},
     "output_type": "execute_result"
    }
   ],
   "source": [
    "coefftable(\"pooling\", model)"
   ]
  },
  {
   "cell_type": "code",
   "execution_count": 8,
   "metadata": {},
   "outputs": [
    {
     "name": "stdout",
     "output_type": "stream",
     "text": [
      "Estimator: between\n",
      "Nobs: 4134\n",
      "R-squared: 0.34\n",
      "F-test: 0.0\n",
      "Estandard Errors: asymptotic\n",
      "Confidence Interval: 0.95\n"
     ]
    },
    {
     "data": {
      "text/html": [
       "<table class=\"data-frame\"><tr><th></th><th>Feature</th><th>β</th><th>se</th><th>t</th><th>p</th><th>LB</th><th>UB</th></tr><tr><th>1</th><td>(Intercept)</td><td>1.22454</td><td>0.0433834</td><td>28.2259</td><td>0.0</td><td>1.13948</td><td>1.30959</td></tr><tr><th>2</th><td>age</td><td>-0.0010074</td><td>0.00109927</td><td>-0.916424</td><td>0.359</td><td>-0.00316255</td><td>0.00114776</td></tr><tr><th>3</th><td>collgrad</td><td>0.353833</td><td>0.0137031</td><td>25.8213</td><td>0.0</td><td>0.326967</td><td>0.380699</td></tr><tr><th>4</th><td>union</td><td>0.186172</td><td>0.0169257</td><td>10.9993</td><td>0.0</td><td>0.152988</td><td>0.219356</td></tr><tr><th>5</th><td>tenure</td><td>0.0444334</td><td>0.00192085</td><td>23.1321</td><td>0.0</td><td>0.0406674</td><td>0.0481993</td></tr><tr><th>6</th><td>hours</td><td>0.00457945</td><td>0.000661422</td><td>6.92364</td><td>0.0</td><td>0.00328271</td><td>0.00587619</td></tr><tr><th>7</th><td>race: other</td><td>0.129555</td><td>0.0124893</td><td>10.3733</td><td>0.0</td><td>0.105069</td><td>0.154041</td></tr><tr><th>8</th><td>race: white</td><td>0.183641</td><td>0.0507644</td><td>3.61752</td><td>0.0</td><td>0.0841158</td><td>0.283167</td></tr></table>"
      ],
      "text/plain": [
       "8×7 DataTables.DataTable\n",
       "│ Row │ Feature     │ β          │ se          │ t         │ p     │\n",
       "├─────┼─────────────┼────────────┼─────────────┼───────────┼───────┤\n",
       "│ 1   │ (Intercept) │ 1.22454    │ 0.0433834   │ 28.2259   │ 0.0   │\n",
       "│ 2   │ age         │ -0.0010074 │ 0.00109927  │ -0.916424 │ 0.359 │\n",
       "│ 3   │ collgrad    │ 0.353833   │ 0.0137031   │ 25.8213   │ 0.0   │\n",
       "│ 4   │ union       │ 0.186172   │ 0.0169257   │ 10.9993   │ 0.0   │\n",
       "│ 5   │ tenure      │ 0.0444334  │ 0.00192085  │ 23.1321   │ 0.0   │\n",
       "│ 6   │ hours       │ 0.00457945 │ 0.000661422 │ 6.92364   │ 0.0   │\n",
       "│ 7   │ race: other │ 0.129555   │ 0.0124893   │ 10.3733   │ 0.0   │\n",
       "│ 8   │ race: white │ 0.183641   │ 0.0507644   │ 3.61752   │ 0.0   │\n",
       "\n",
       "│ Row │ LB          │ UB         │\n",
       "├─────┼─────────────┼────────────┤\n",
       "│ 1   │ 1.13948     │ 1.30959    │\n",
       "│ 2   │ -0.00316255 │ 0.00114776 │\n",
       "│ 3   │ 0.326967    │ 0.380699   │\n",
       "│ 4   │ 0.152988    │ 0.219356   │\n",
       "│ 5   │ 0.0406674   │ 0.0481993  │\n",
       "│ 6   │ 0.00328271  │ 0.00587619 │\n",
       "│ 7   │ 0.105069    │ 0.154041   │\n",
       "│ 8   │ 0.0841158   │ 0.283167   │"
      ]
     },
     "execution_count": 8,
     "metadata": {},
     "output_type": "execute_result"
    }
   ],
   "source": [
    "coefftable(\"between\", model)"
   ]
  },
  {
   "cell_type": "code",
   "execution_count": 9,
   "metadata": {},
   "outputs": [
    {
     "name": "stdout",
     "output_type": "stream",
     "text": [
      "Estimator: within\n",
      "Nobs: 18976\n",
      "R-squared: 0.13\n",
      "F-test: 0.0\n",
      "Estandard Errors: asymptotic\n",
      "Confidence Interval: 0.95\n",
      "\n",
      "Number of groups: 4134\n",
      "Panel is unbalanced\n",
      "Minimum observations per group: 1\n",
      "Average observations per group: 4.6\n",
      "Maximum observations per group: 12\n"
     ]
    },
    {
     "data": {
      "text/html": [
       "<table class=\"data-frame\"><tr><th></th><th>Feature</th><th>β</th><th>se</th><th>t</th><th>p</th><th>LB</th><th>UB</th></tr><tr><th>1</th><td>(Intercept)</td><td>1.43629</td><td>0.0181454</td><td>79.1544</td><td>0.0</td><td>1.40072</td><td>1.47186</td></tr><tr><th>2</th><td>age</td><td>0.00947752</td><td>0.000490447</td><td>19.3243</td><td>0.0</td><td>0.0085162</td><td>0.0104388</td></tr><tr><th>3</th><td>union</td><td>0.101796</td><td>0.00701451</td><td>14.5122</td><td>0.0</td><td>0.088047</td><td>0.115545</td></tr><tr><th>4</th><td>tenure</td><td>0.0180172</td><td>0.000814387</td><td>22.1237</td><td>0.0</td><td>0.0164209</td><td>0.0196135</td></tr><tr><th>5</th><td>hours</td><td>-0.00196436</td><td>0.000293276</td><td>-6.698</td><td>0.0</td><td>-0.00253921</td><td>-0.00138952</td></tr></table>"
      ],
      "text/plain": [
       "5×7 DataTables.DataTable\n",
       "│ Row │ Feature     │ β           │ se          │ t       │ p   │ LB          │\n",
       "├─────┼─────────────┼─────────────┼─────────────┼─────────┼─────┼─────────────┤\n",
       "│ 1   │ (Intercept) │ 1.43629     │ 0.0181454   │ 79.1544 │ 0.0 │ 1.40072     │\n",
       "│ 2   │ age         │ 0.00947752  │ 0.000490447 │ 19.3243 │ 0.0 │ 0.0085162   │\n",
       "│ 3   │ union       │ 0.101796    │ 0.00701451  │ 14.5122 │ 0.0 │ 0.088047    │\n",
       "│ 4   │ tenure      │ 0.0180172   │ 0.000814387 │ 22.1237 │ 0.0 │ 0.0164209   │\n",
       "│ 5   │ hours       │ -0.00196436 │ 0.000293276 │ -6.698  │ 0.0 │ -0.00253921 │\n",
       "\n",
       "│ Row │ UB          │\n",
       "├─────┼─────────────┤\n",
       "│ 1   │ 1.47186     │\n",
       "│ 2   │ 0.0104388   │\n",
       "│ 3   │ 0.115545    │\n",
       "│ 4   │ 0.0196135   │\n",
       "│ 5   │ -0.00138952 │"
      ]
     },
     "execution_count": 9,
     "metadata": {},
     "output_type": "execute_result"
    }
   ],
   "source": [
    "coefftable(\"within\", model)"
   ]
  },
  {
   "cell_type": "code",
   "execution_count": 10,
   "metadata": {},
   "outputs": [
    {
     "name": "stdout",
     "output_type": "stream",
     "text": [
      "Estimator: random\n",
      "Nobs: 18976\n",
      "R-squared: 0.32\n",
      "F-test: 0.0\n",
      "Estandard Errors: asymptotic\n",
      "Confidence Interval: 0.95\n",
      "\n",
      "Number of groups: 4134\n",
      "Panel is unbalanced\n",
      "Minimum observations per group: 1\n",
      "Average observations per group: 4.6\n",
      "Maximum observations per group: 12\n",
      "\n",
      "Error Component\n",
      "idiosyncratic: 0.2561\n",
      "individual: 0.3143\n",
      "ρ: 0.6\n",
      "\n"
     ]
    },
    {
     "data": {
      "text/html": [
       "<table class=\"data-frame\"><tr><th></th><th>Feature</th><th>β</th><th>se</th><th>t</th><th>p</th><th>LB</th><th>UB</th></tr><tr><th>1</th><td>(Intercept)</td><td>1.26698</td><td>0.0197514</td><td>64.1464</td><td>0.0</td><td>1.22827</td><td>1.3057</td></tr><tr><th>2</th><td>age</td><td>0.00699308</td><td>0.000449228</td><td>15.5669</td><td>0.0</td><td>0.00611255</td><td>0.0078736</td></tr><tr><th>3</th><td>collgrad</td><td>0.381352</td><td>0.0133518</td><td>28.5618</td><td>0.0</td><td>0.355181</td><td>0.407523</td></tr><tr><th>4</th><td>union</td><td>0.119264</td><td>0.00651404</td><td>18.3088</td><td>0.0</td><td>0.106496</td><td>0.132032</td></tr><tr><th>5</th><td>tenure</td><td>0.0231312</td><td>0.000745909</td><td>31.0108</td><td>0.0</td><td>0.0216692</td><td>0.0245933</td></tr><tr><th>6</th><td>hours</td><td>-0.000781721</td><td>0.000271199</td><td>-2.88246</td><td>0.004</td><td>-0.0013133</td><td>-0.000250146</td></tr><tr><th>7</th><td>race: other</td><td>0.108907</td><td>0.0122976</td><td>8.85596</td><td>0.0</td><td>0.0848027</td><td>0.133012</td></tr><tr><th>8</th><td>race: white</td><td>0.172916</td><td>0.051396</td><td>3.36439</td><td>0.001</td><td>0.0721753</td><td>0.273657</td></tr></table>"
      ],
      "text/plain": [
       "8×7 DataTables.DataTable\n",
       "│ Row │ Feature     │ β            │ se          │ t        │ p     │\n",
       "├─────┼─────────────┼──────────────┼─────────────┼──────────┼───────┤\n",
       "│ 1   │ (Intercept) │ 1.26698      │ 0.0197514   │ 64.1464  │ 0.0   │\n",
       "│ 2   │ age         │ 0.00699308   │ 0.000449228 │ 15.5669  │ 0.0   │\n",
       "│ 3   │ collgrad    │ 0.381352     │ 0.0133518   │ 28.5618  │ 0.0   │\n",
       "│ 4   │ union       │ 0.119264     │ 0.00651404  │ 18.3088  │ 0.0   │\n",
       "│ 5   │ tenure      │ 0.0231312    │ 0.000745909 │ 31.0108  │ 0.0   │\n",
       "│ 6   │ hours       │ -0.000781721 │ 0.000271199 │ -2.88246 │ 0.004 │\n",
       "│ 7   │ race: other │ 0.108907     │ 0.0122976   │ 8.85596  │ 0.0   │\n",
       "│ 8   │ race: white │ 0.172916     │ 0.051396    │ 3.36439  │ 0.001 │\n",
       "\n",
       "│ Row │ LB         │ UB           │\n",
       "├─────┼────────────┼──────────────┤\n",
       "│ 1   │ 1.22827    │ 1.3057       │\n",
       "│ 2   │ 0.00611255 │ 0.0078736    │\n",
       "│ 3   │ 0.355181   │ 0.407523     │\n",
       "│ 4   │ 0.106496   │ 0.132032     │\n",
       "│ 5   │ 0.0216692  │ 0.0245933    │\n",
       "│ 6   │ -0.0013133 │ -0.000250146 │\n",
       "│ 7   │ 0.0848027  │ 0.133012     │\n",
       "│ 8   │ 0.0721753  │ 0.273657     │"
      ]
     },
     "execution_count": 10,
     "metadata": {},
     "output_type": "execute_result"
    }
   ],
   "source": [
    "coefftable(\"random\", model)"
   ]
  },
  {
   "cell_type": "code",
   "execution_count": 11,
   "metadata": {},
   "outputs": [
    {
     "name": "stdout",
     "output_type": "stream",
     "text": [
      "Estimator: pooling\n",
      "Nobs: 18976\n",
      "R-squared: 0.27\n",
      "F-test: 0.0\n",
      "Estandard Errors: HC3\n",
      "Confidence Interval: 0.95\n"
     ]
    },
    {
     "data": {
      "text/html": [
       "<table class=\"data-frame\"><tr><th></th><th>Feature</th><th>β</th><th>se</th><th>t</th><th>p</th><th>LB</th><th>UB</th></tr><tr><th>1</th><td>(Intercept)</td><td>1.28554</td><td>0.0248169</td><td>51.801</td><td>0.0</td><td>1.2369</td><td>1.33418</td></tr><tr><th>2</th><td>age</td><td>0.00241081</td><td>0.000520192</td><td>4.63446</td><td>0.0</td><td>0.00139119</td><td>0.00343043</td></tr><tr><th>3</th><td>collgrad</td><td>0.359833</td><td>0.00784847</td><td>45.8476</td><td>0.0</td><td>0.34445</td><td>0.375217</td></tr><tr><th>4</th><td>union</td><td>0.16286</td><td>0.00692482</td><td>23.5183</td><td>0.0</td><td>0.149287</td><td>0.176433</td></tr><tr><th>5</th><td>tenure</td><td>0.0324244</td><td>0.000809337</td><td>40.0629</td><td>0.0</td><td>0.030838</td><td>0.0340107</td></tr><tr><th>6</th><td>hours</td><td>0.00146944</td><td>0.000464588</td><td>3.16288</td><td>0.002</td><td>0.000558801</td><td>0.00238007</td></tr><tr><th>7</th><td>race: other</td><td>0.144026</td><td>0.00633845</td><td>22.7227</td><td>0.0</td><td>0.131603</td><td>0.15645</td></tr><tr><th>8</th><td>race: white</td><td>0.21371</td><td>0.031635</td><td>6.75548</td><td>0.0</td><td>0.151702</td><td>0.275717</td></tr></table>"
      ],
      "text/plain": [
       "8×7 DataTables.DataTable\n",
       "│ Row │ Feature     │ β          │ se          │ t       │ p     │ LB          │\n",
       "├─────┼─────────────┼────────────┼─────────────┼─────────┼───────┼─────────────┤\n",
       "│ 1   │ (Intercept) │ 1.28554    │ 0.0248169   │ 51.801  │ 0.0   │ 1.2369      │\n",
       "│ 2   │ age         │ 0.00241081 │ 0.000520192 │ 4.63446 │ 0.0   │ 0.00139119  │\n",
       "│ 3   │ collgrad    │ 0.359833   │ 0.00784847  │ 45.8476 │ 0.0   │ 0.34445     │\n",
       "│ 4   │ union       │ 0.16286    │ 0.00692482  │ 23.5183 │ 0.0   │ 0.149287    │\n",
       "│ 5   │ tenure      │ 0.0324244  │ 0.000809337 │ 40.0629 │ 0.0   │ 0.030838    │\n",
       "│ 6   │ hours       │ 0.00146944 │ 0.000464588 │ 3.16288 │ 0.002 │ 0.000558801 │\n",
       "│ 7   │ race: other │ 0.144026   │ 0.00633845  │ 22.7227 │ 0.0   │ 0.131603    │\n",
       "│ 8   │ race: white │ 0.21371    │ 0.031635    │ 6.75548 │ 0.0   │ 0.151702    │\n",
       "\n",
       "│ Row │ UB         │\n",
       "├─────┼────────────┤\n",
       "│ 1   │ 1.33418    │\n",
       "│ 2   │ 0.00343043 │\n",
       "│ 3   │ 0.375217   │\n",
       "│ 4   │ 0.176433   │\n",
       "│ 5   │ 0.0340107  │\n",
       "│ 6   │ 0.00238007 │\n",
       "│ 7   │ 0.15645    │\n",
       "│ 8   │ 0.275717   │"
      ]
     },
     "execution_count": 11,
     "metadata": {},
     "output_type": "execute_result"
    }
   ],
   "source": [
    "coefftable(\"pooling\", model, \"HC3\")"
   ]
  },
  {
   "cell_type": "code",
   "execution_count": 12,
   "metadata": {},
   "outputs": [
    {
     "name": "stdout",
     "output_type": "stream",
     "text": [
      "Estimator: within\n",
      "Nobs: 18976\n",
      "R-squared: 0.13\n",
      "F-test: 0.0\n",
      "Estandard Errors: HC3\n",
      "Confidence Interval: 0.95\n",
      "\n",
      "Number of groups: 4134\n",
      "Panel is unbalanced\n",
      "Minimum observations per group: 1\n",
      "Average observations per group: 4.6\n",
      "Maximum observations per group: 12\n"
     ]
    },
    {
     "data": {
      "text/html": [
       "<table class=\"data-frame\"><tr><th></th><th>Feature</th><th>β</th><th>se</th><th>t</th><th>p</th><th>LB</th><th>UB</th></tr><tr><th>1</th><td>(Intercept)</td><td>1.43629</td><td>0.0339141</td><td>42.3509</td><td>0.0</td><td>1.36982</td><td>1.50277</td></tr><tr><th>2</th><td>age</td><td>0.00947752</td><td>0.00082551</td><td>11.4808</td><td>0.0</td><td>0.00785945</td><td>0.0110956</td></tr><tr><th>3</th><td>union</td><td>0.101796</td><td>0.010608</td><td>9.5962</td><td>0.0</td><td>0.0810035</td><td>0.122589</td></tr><tr><th>4</th><td>tenure</td><td>0.0180172</td><td>0.00132809</td><td>13.5662</td><td>0.0</td><td>0.015414</td><td>0.0206204</td></tr><tr><th>5</th><td>hours</td><td>-0.00196436</td><td>0.000631543</td><td>-3.11042</td><td>0.002</td><td>-0.00320224</td><td>-0.000726482</td></tr></table>"
      ],
      "text/plain": [
       "5×7 DataTables.DataTable\n",
       "│ Row │ Feature     │ β           │ se          │ t        │ p     │\n",
       "├─────┼─────────────┼─────────────┼─────────────┼──────────┼───────┤\n",
       "│ 1   │ (Intercept) │ 1.43629     │ 0.0339141   │ 42.3509  │ 0.0   │\n",
       "│ 2   │ age         │ 0.00947752  │ 0.00082551  │ 11.4808  │ 0.0   │\n",
       "│ 3   │ union       │ 0.101796    │ 0.010608    │ 9.5962   │ 0.0   │\n",
       "│ 4   │ tenure      │ 0.0180172   │ 0.00132809  │ 13.5662  │ 0.0   │\n",
       "│ 5   │ hours       │ -0.00196436 │ 0.000631543 │ -3.11042 │ 0.002 │\n",
       "\n",
       "│ Row │ LB          │ UB           │\n",
       "├─────┼─────────────┼──────────────┤\n",
       "│ 1   │ 1.36982     │ 1.50277      │\n",
       "│ 2   │ 0.00785945  │ 0.0110956    │\n",
       "│ 3   │ 0.0810035   │ 0.122589     │\n",
       "│ 4   │ 0.015414    │ 0.0206204    │\n",
       "│ 5   │ -0.00320224 │ -0.000726482 │"
      ]
     },
     "execution_count": 12,
     "metadata": {},
     "output_type": "execute_result"
    }
   ],
   "source": [
    "coefftable(\"within\", model, \"HC3\")"
   ]
  },
  {
   "cell_type": "code",
   "execution_count": 13,
   "metadata": {},
   "outputs": [
    {
     "name": "stdout",
     "output_type": "stream",
     "text": [
      "Estimator: random\n",
      "Nobs: 18976\n",
      "R-squared: 0.32\n",
      "F-test: 0.0\n",
      "Estandard Errors: HC3\n",
      "Confidence Interval: 0.95\n",
      "\n",
      "Number of groups: 4134\n",
      "Panel is unbalanced\n",
      "Minimum observations per group: 1\n",
      "Average observations per group: 4.6\n",
      "Maximum observations per group: 12\n",
      "\n",
      "Error Component\n",
      "idiosyncratic: 0.2561\n",
      "individual: 0.3143\n",
      "ρ: 0.6\n",
      "\n"
     ]
    },
    {
     "data": {
      "text/html": [
       "<table class=\"data-frame\"><tr><th></th><th>Feature</th><th>β</th><th>se</th><th>t</th><th>p</th><th>LB</th><th>UB</th></tr><tr><th>1</th><td>(Intercept)</td><td>1.26698</td><td>0.0359965</td><td>35.1974</td><td>0.0</td><td>1.19643</td><td>1.33754</td></tr><tr><th>2</th><td>age</td><td>0.00699308</td><td>0.000742735</td><td>9.4153</td><td>0.0</td><td>0.00553725</td><td>0.0084489</td></tr><tr><th>3</th><td>collgrad</td><td>0.381352</td><td>0.0221246</td><td>17.2366</td><td>0.0</td><td>0.337986</td><td>0.424718</td></tr><tr><th>4</th><td>union</td><td>0.119264</td><td>0.00980682</td><td>12.1614</td><td>0.0</td><td>0.100042</td><td>0.138487</td></tr><tr><th>5</th><td>tenure</td><td>0.0231312</td><td>0.00121953</td><td>18.9673</td><td>0.0</td><td>0.0207408</td><td>0.0255216</td></tr><tr><th>6</th><td>hours</td><td>-0.000781721</td><td>0.000620379</td><td>-1.26007</td><td>0.208</td><td>-0.00199772</td><td>0.000434278</td></tr><tr><th>7</th><td>race: other</td><td>0.108907</td><td>0.0188576</td><td>5.77523</td><td>0.0</td><td>0.0719445</td><td>0.14587</td></tr><tr><th>8</th><td>race: white</td><td>0.172916</td><td>0.0943275</td><td>1.83315</td><td>0.067</td><td>-0.0119742</td><td>0.357806</td></tr></table>"
      ],
      "text/plain": [
       "8×7 DataTables.DataTable\n",
       "│ Row │ Feature     │ β            │ se          │ t        │ p     │\n",
       "├─────┼─────────────┼──────────────┼─────────────┼──────────┼───────┤\n",
       "│ 1   │ (Intercept) │ 1.26698      │ 0.0359965   │ 35.1974  │ 0.0   │\n",
       "│ 2   │ age         │ 0.00699308   │ 0.000742735 │ 9.4153   │ 0.0   │\n",
       "│ 3   │ collgrad    │ 0.381352     │ 0.0221246   │ 17.2366  │ 0.0   │\n",
       "│ 4   │ union       │ 0.119264     │ 0.00980682  │ 12.1614  │ 0.0   │\n",
       "│ 5   │ tenure      │ 0.0231312    │ 0.00121953  │ 18.9673  │ 0.0   │\n",
       "│ 6   │ hours       │ -0.000781721 │ 0.000620379 │ -1.26007 │ 0.208 │\n",
       "│ 7   │ race: other │ 0.108907     │ 0.0188576   │ 5.77523  │ 0.0   │\n",
       "│ 8   │ race: white │ 0.172916     │ 0.0943275   │ 1.83315  │ 0.067 │\n",
       "\n",
       "│ Row │ LB          │ UB          │\n",
       "├─────┼─────────────┼─────────────┤\n",
       "│ 1   │ 1.19643     │ 1.33754     │\n",
       "│ 2   │ 0.00553725  │ 0.0084489   │\n",
       "│ 3   │ 0.337986    │ 0.424718    │\n",
       "│ 4   │ 0.100042    │ 0.138487    │\n",
       "│ 5   │ 0.0207408   │ 0.0255216   │\n",
       "│ 6   │ -0.00199772 │ 0.000434278 │\n",
       "│ 7   │ 0.0719445   │ 0.14587     │\n",
       "│ 8   │ -0.0119742  │ 0.357806    │"
      ]
     },
     "execution_count": 13,
     "metadata": {},
     "output_type": "execute_result"
    }
   ],
   "source": [
    "coefftable(\"random\", model, \"HC3\")"
   ]
  },
  {
   "cell_type": "code",
   "execution_count": null,
   "metadata": {
    "collapsed": true
   },
   "outputs": [],
   "source": []
  }
 ],
 "metadata": {
  "kernelspec": {
   "display_name": "Julia 0.6.0-pre.beta",
   "language": "julia",
   "name": "julia-0.6"
  },
  "language_info": {
   "file_extension": ".jl",
   "mimetype": "application/julia",
   "name": "julia",
   "version": "0.6.0"
  }
 },
 "nbformat": 4,
 "nbformat_minor": 2
}
